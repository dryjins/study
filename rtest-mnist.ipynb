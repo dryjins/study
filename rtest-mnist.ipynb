{
  "nbformat": 4,
  "nbformat_minor": 0,
  "metadata": {
    "colab": {
      "provenance": [],
      "authorship_tag": "ABX9TyPxsZ+NdDQkDTCSb92K1Q3a",
      "include_colab_link": true
    },
    "kernelspec": {
      "name": "ir",
      "display_name": "R"
    },
    "language_info": {
      "name": "R"
    }
  },
  "cells": [
    {
      "cell_type": "markdown",
      "metadata": {
        "id": "view-in-github",
        "colab_type": "text"
      },
      "source": [
        "<a href=\"https://colab.research.google.com/github/dryjins/study/blob/main/rtest-mnist.ipynb\" target=\"_parent\"><img src=\"https://colab.research.google.com/assets/colab-badge.svg\" alt=\"Open In Colab\"/></a>"
      ]
    },
    {
      "cell_type": "code",
      "execution_count": null,
      "metadata": {
        "id": "EoBSe4I24ZgT",
        "colab": {
          "base_uri": "https://localhost:8080/"
        },
        "outputId": "1e9949ec-8c5f-4d3b-dd17-6257d5a9cc7b"
      },
      "outputs": [
        {
          "output_type": "stream",
          "name": "stderr",
          "text": [
            "Installing package into ‘/usr/local/lib/R/site-library’\n",
            "(as ‘lib’ is unspecified)\n",
            "\n",
            "also installing the dependencies ‘listenv’, ‘parallelly’, ‘future’, ‘globals’, ‘R.methodsS3’, ‘R.oo’, ‘R.utils’, ‘bitops’, ‘shape’, ‘future.apply’, ‘numDeriv’, ‘progressr’, ‘SQUAREM’, ‘httpuv’, ‘xtable’, ‘sourcetools’, ‘later’, ‘promises’, ‘R.cache’, ‘caTools’, ‘TH.data’, ‘profileModel’, ‘minqa’, ‘nloptr’, ‘RcppEigen’, ‘lazyeval’, ‘plotrix’, ‘diagram’, ‘lava’, ‘shiny’, ‘miniUI’, ‘styler’, ‘classInt’, ‘labelled’, ‘gplots’, ‘libcoin’, ‘matrixStats’, ‘multcomp’, ‘iterators’, ‘clock’, ‘gower’, ‘hardhat’, ‘timeDate’, ‘brglm’, ‘gtools’, ‘lme4’, ‘qvcalc’, ‘rex’, ‘Formula’, ‘plotmo’, ‘TeachingDemos’, ‘prodlim’, ‘combinat’, ‘questionr’, ‘ROCR’, ‘mvtnorm’, ‘modeltools’, ‘strucchange’, ‘coin’, ‘zoo’, ‘sandwich’, ‘ISwR’, ‘corpcor’, ‘ROSE’, ‘e1071’, ‘foreach’, ‘ModelMetrics’, ‘plyr’, ‘pROC’, ‘recipes’, ‘reshape2’, ‘BradleyTerry2’, ‘covr’, ‘Cubist’, ‘earth’, ‘ellipse’, ‘fastICA’, ‘gam’, ‘ipred’, ‘kernlab’, ‘klaR’, ‘mda’, ‘mlbench’, ‘MLmetrics’, ‘pamr’, ‘party’, ‘pls’, ‘proxy’, ‘randomForest’, ‘RANN’, ‘spls’, ‘subselect’, ‘superpc’, ‘themis’\n",
            "\n",
            "\n"
          ]
        }
      ],
      "source": [
        "# 필요한 패키지 불러오기\n",
        "\n",
        "# 모델링\n",
        "install.packages(\"caret\", dependencies = TRUE)\n",
        "library(caret)\n",
        "# 데이터를 불러올 패키지\n",
        "install.packages(\"keras\")\n",
        "library(keras)\n",
        "# 시각화 패키지\n",
        "library(ggplot2)\n",
        "# 데이터 변환\n",
        "install.packages(\"reshape2\")\n",
        "library(reshape2)"
      ]
    },
    {
      "cell_type": "code",
      "source": [
        "# MNIST 데이터셋 로드\n",
        "mnist <- dataset_mnist()\n",
        "\n",
        "# 훈련 데이터와 테스트 데이터 분할\n",
        "X_train <- mnist$train$x\n",
        "y_train <- mnist$train$y\n",
        "X_test <- mnist$test$x\n",
        "y_test <- mnist$test$y\n",
        "\n",
        "# 훈련 데이터와 테스트 데이터 크기 조정\n",
        "X_train <- array_reshape(X_train, c(nrow(X_train), 28 * 28))  # 28x28 이미지를 784 픽셀 벡터로 변환\n",
        "X_test <- array_reshape(X_test, c(nrow(X_test), 28 * 28))\n",
        "\n",
        "# 데이터 스케일링 (0 ~ 1 사이 값으로 조정)\n",
        "X_train <- X_train / 255\n",
        "X_test <- X_test / 255\n",
        "\n",
        "# 타겟 데이터 원-핫 인코딩\n",
        "y_train <- to_categorical(y_train, 10)  # 10은 클래스 수 (0부터 9까지)\n",
        "y_test <- to_categorical(y_test, 10)"
      ],
      "metadata": {
        "id": "b8HRcH6RZ7YN"
      },
      "execution_count": null,
      "outputs": []
    },
    {
      "cell_type": "code",
      "source": [
        "# 10개의 랜덤 샘플 인덱스 선택\n",
        "sample_indices <- sample(1:nrow(X_train), 10)\n",
        "\n",
        "# 선택한 이미지 시각화\n",
        "par(mfrow = c(2, 5))  # 2x5 그래프 레이아웃 설정\n",
        "for (i in 1:10) {\n",
        "  sample_image <- X_train[sample_indices[i], ]\n",
        "  sample_label <- which.max(y_train[sample_indices[i], ])  # 원-핫 인코딩을 다시 정수 레이블로 변환\n",
        "  sample_image <- matrix(sample_image, nrow = 28, ncol = 28)  # 이미지 형태로 변환\n",
        "  image_df <- as.data.frame(sample_image)\n",
        "  image_df$row <- 1:nrow(image_df)\n",
        "  image_df <- reshape2::melt(image_df, id.vars = \"row\")\n",
        "  g = ggplot(image_df, aes(x = row, y = variable, fill = value)) +\n",
        "    geom_tile() +\n",
        "    scale_fill_gradient(low = \"white\", high = \"black\") +\n",
        "    labs(title = paste(\"MNIST Digit:\", sample_label-1), x = \"\", y = \"\") +\n",
        "    theme_minimal() +\n",
        "    theme(axis.text = element_blank(), axis.title = element_blank(), legend.position = \"none\")\n",
        "    print(g)\n",
        "}"
      ],
      "metadata": {
        "id": "8yZxrzLJZ8v4"
      },
      "execution_count": null,
      "outputs": []
    }
  ]
}